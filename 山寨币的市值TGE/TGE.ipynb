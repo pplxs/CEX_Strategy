{
 "cells": [
  {
   "cell_type": "code",
   "execution_count": 1,
   "metadata": {},
   "outputs": [],
   "source": [
    "import numpy as np\n",
    "import pandas as pd\n",
    "import pymysql\n",
    "import configparser\n",
    "from decimal import Decimal\n",
    "import json\n",
    "\n",
    "import warnings\n",
    "warnings.filterwarnings(\"ignore\")\n",
    "\n",
    "import matplotlib.pyplot as plt\n",
    "from mpl_toolkits.mplot3d import Axes3D\n",
    "from datetime import datetime"
   ]
  },
  {
   "cell_type": "code",
   "execution_count": 2,
   "metadata": {},
   "outputs": [],
   "source": [
    "# 连接数据库\n",
    "def getConn():\n",
    "    config = configparser.ConfigParser()\n",
    "    config.read('config.ini', encoding='utf8')\n",
    "    db_url = config['data_center_config']['host']\n",
    "    db_port = config['data_center_config']['port']\n",
    "    db_username = config['data_center_config']['username']\n",
    "    db_password = config['data_center_config']['password']\n",
    "    db_name = config['data_center_config']['basename']\n",
    "    return pymysql.connect(host=db_url,\n",
    "                           port=int(db_port),\n",
    "                           user=db_username,\n",
    "                           password=db_password,\n",
    "                           db=db_name,\n",
    "                           charset='utf8mb4')"
   ]
  },
  {
   "cell_type": "code",
   "execution_count": 29,
   "metadata": {},
   "outputs": [],
   "source": [
    "conn = getConn()"
   ]
  },
  {
   "cell_type": "code",
   "execution_count": 32,
   "metadata": {},
   "outputs": [],
   "source": [
    "# 读取Binance\n",
    "data_list = []\n",
    "for year in range(2019, 2025):\n",
    "    table_name = f'binance_spot_kline_daily_{year}'\n",
    "    sql = f'''SELECT * FROM {table_name} WHERE symbol LIKE '%USDT';'''\n",
    "    cs = conn.cursor()\n",
    "    cs.execute(sql)\n",
    "    res = cs.fetchall()\n",
    "    data_list.append(pd.DataFrame(res))\n",
    "    if year == 2024:\n",
    "        columns_sql = '''SELECT COLUMN_NAME FROM INFORMATION_SCHEMA.COLUMNS \n",
    "                         WHERE TABLE_NAME = %s ORDER BY ORDINAL_POSITION;'''\n",
    "        cs.execute(columns_sql, (table_name,))\n",
    "        columns = [col[0] for col in cs.fetchall()]\n",
    "data = pd.concat(data_list, ignore_index=True)\n",
    "data.columns = columns"
   ]
  },
  {
   "cell_type": "code",
   "execution_count": 34,
   "metadata": {},
   "outputs": [],
   "source": [
    "data.to_csv('binance_data.csv', index=False)"
   ]
  },
  {
   "cell_type": "markdown",
   "metadata": {},
   "source": [
    "# binance上第一天上线后币种 2020.01.01开始"
   ]
  },
  {
   "cell_type": "code",
   "execution_count": 3,
   "metadata": {},
   "outputs": [],
   "source": [
    "binance_data = pd.read_csv('binance_data.csv')"
   ]
  },
  {
   "cell_type": "code",
   "execution_count": 4,
   "metadata": {},
   "outputs": [],
   "source": [
    "binance_data = binance_data[['close_time_date', 'symbol']].drop_duplicates()\n",
    "binance_data['close_time_date'] = binance_data['close_time_date'].apply(lambda x:x.split(' ')[0])\n",
    "binance_data.sort_values(by='close_time_date', inplace=True)\n",
    "binance_data.reset_index(inplace=True, drop=True)"
   ]
  },
  {
   "cell_type": "code",
   "execution_count": 67,
   "metadata": {},
   "outputs": [],
   "source": [
    "tge_data = binance_data.groupby('symbol', as_index=False).agg(date=('close_time_date', 'first'))\n",
    "tge_data['year'] = tge_data['date'].apply(lambda x:int(x.split('-')[0]))\n",
    "tge_data = tge_data[tge_data['year']>2019].sort_values(by='date')\n",
    "tge_data.reset_index(inplace=True, drop=True)\n",
    "tge_data.rename(columns={'date':'tge_date'}, inplace=True)\n",
    "tge_data['symbol'] = tge_data['symbol'].apply(lambda x:x[:-4])\n",
    "tge_data.to_csv('tge_data.csv', index=False)"
   ]
  },
  {
   "cell_type": "code",
   "execution_count": null,
   "metadata": {},
   "outputs": [],
   "source": []
  },
  {
   "cell_type": "markdown",
   "metadata": {},
   "source": [
    "# Cmc获取市值数据"
   ]
  },
  {
   "cell_type": "code",
   "execution_count": 28,
   "metadata": {},
   "outputs": [],
   "source": [
    "\n",
    "def getConnCmc():\n",
    "    config = configparser.ConfigParser()\n",
    "    config.read('config.ini', encoding='utf8')\n",
    "    db_url = config['base_config']['host']\n",
    "    db_port = config['base_config']['port']\n",
    "    db_username = config['base_config']['username']\n",
    "    db_password = config['base_config']['password']\n",
    "    db_name = config['base_config']['basename']\n",
    "    return pymysql.connect(host=db_url,\n",
    "                           port=int(db_port),\n",
    "                           user=db_username,\n",
    "                           password=db_password,\n",
    "                           db=db_name,\n",
    "                           charset='utf8mb4')"
   ]
  },
  {
   "cell_type": "code",
   "execution_count": 29,
   "metadata": {},
   "outputs": [],
   "source": [
    "conn = getConnCmc()"
   ]
  },
  {
   "cell_type": "code",
   "execution_count": 30,
   "metadata": {},
   "outputs": [
    {
     "data": {
      "text/html": [
       "<div>\n",
       "<style scoped>\n",
       "    .dataframe tbody tr th:only-of-type {\n",
       "        vertical-align: middle;\n",
       "    }\n",
       "\n",
       "    .dataframe tbody tr th {\n",
       "        vertical-align: top;\n",
       "    }\n",
       "\n",
       "    .dataframe thead th {\n",
       "        text-align: right;\n",
       "    }\n",
       "</style>\n",
       "<table border=\"1\" class=\"dataframe\">\n",
       "  <thead>\n",
       "    <tr style=\"text-align: right;\">\n",
       "      <th></th>\n",
       "      <th>symbol</th>\n",
       "      <th>tge_date</th>\n",
       "      <th>year</th>\n",
       "    </tr>\n",
       "  </thead>\n",
       "  <tbody>\n",
       "    <tr>\n",
       "      <th>0</th>\n",
       "      <td>EUR</td>\n",
       "      <td>2020-01-04</td>\n",
       "      <td>2020</td>\n",
       "    </tr>\n",
       "    <tr>\n",
       "      <th>1</th>\n",
       "      <td>OGN</td>\n",
       "      <td>2020-01-10</td>\n",
       "      <td>2020</td>\n",
       "    </tr>\n",
       "    <tr>\n",
       "      <th>2</th>\n",
       "      <td>WRX</td>\n",
       "      <td>2020-02-06</td>\n",
       "      <td>2020</td>\n",
       "    </tr>\n",
       "    <tr>\n",
       "      <th>3</th>\n",
       "      <td>BNT</td>\n",
       "      <td>2020-02-07</td>\n",
       "      <td>2020</td>\n",
       "    </tr>\n",
       "    <tr>\n",
       "      <th>4</th>\n",
       "      <td>LSK</td>\n",
       "      <td>2020-02-07</td>\n",
       "      <td>2020</td>\n",
       "    </tr>\n",
       "  </tbody>\n",
       "</table>\n",
       "</div>"
      ],
      "text/plain": [
       "  symbol    tge_date  year\n",
       "0    EUR  2020-01-04  2020\n",
       "1    OGN  2020-01-10  2020\n",
       "2    WRX  2020-02-06  2020\n",
       "3    BNT  2020-02-07  2020\n",
       "4    LSK  2020-02-07  2020"
      ]
     },
     "execution_count": 30,
     "metadata": {},
     "output_type": "execute_result"
    }
   ],
   "source": [
    "tge_data = pd.read_csv('tge_data.csv')\n",
    "tge_data.head()"
   ]
  },
  {
   "cell_type": "code",
   "execution_count": 31,
   "metadata": {},
   "outputs": [],
   "source": [
    "check_symbols = tge_data.groupby('year')['symbol'].unique().apply(list).to_dict()"
   ]
  },
  {
   "cell_type": "code",
   "execution_count": 74,
   "metadata": {},
   "outputs": [],
   "source": [
    "# check_symbols[2020]"
   ]
  },
  {
   "cell_type": "code",
   "execution_count": 32,
   "metadata": {},
   "outputs": [],
   "source": [
    "# 读取 cmc\n",
    "mv_data_list = []\n",
    "for year in range(2020, 2025):\n",
    "    table_name = f'pv_allcoin_raw_data_daily_cmc_{year}'\n",
    "    symbol_s = tuple(check_symbols[year]) \n",
    "    sql = f'''\n",
    "            select * from {table_name} where symbol in {symbol_s} and market_cap > 0;\n",
    "        '''\n",
    "    cs = conn.cursor()\n",
    "    cs.execute(sql)\n",
    "    res = cs.fetchall()\n",
    "    mv_data_list.append(pd.DataFrame(res))\n",
    "    if year == 2024:\n",
    "        columns_sql = '''SELECT COLUMN_NAME FROM INFORMATION_SCHEMA.COLUMNS \n",
    "                         WHERE TABLE_NAME = %s ORDER BY ORDINAL_POSITION;'''\n",
    "        cs.execute(columns_sql, (table_name,))\n",
    "        columns = [col[0] for col in cs.fetchall()]\n",
    "mv_data = pd.concat(mv_data_list, ignore_index=True)\n",
    "mv_data.columns = columns\n",
    "mv_data.to_csv('cmc_data.csv', index=False)"
   ]
  },
  {
   "cell_type": "code",
   "execution_count": null,
   "metadata": {},
   "outputs": [],
   "source": []
  },
  {
   "cell_type": "markdown",
   "metadata": {},
   "source": [
    "# tge后的市值分析"
   ]
  },
  {
   "cell_type": "code",
   "execution_count": 2,
   "metadata": {},
   "outputs": [],
   "source": [
    "mv_data = pd.read_csv('cmc_data.csv')\n",
    "mv_data.drop_duplicates(subset=['symbol', 'date_time_ymd'], inplace=True)\n",
    "mv_data.sort_values(by='date_time_ymd', inplace=True)\n",
    "mv_data.reset_index(inplace=True, drop=True)\n",
    "mv_data = mv_data[['symbol','date_time_ymd','market_cap','fully_diluted_market_cap']]"
   ]
  },
  {
   "cell_type": "code",
   "execution_count": null,
   "metadata": {},
   "outputs": [],
   "source": [
    "tge_data_finall_list = []\n",
    "for s in list(np.unique(mv_data['symbol'])):\n",
    "    tge_date = mv_data[mv_data['symbol']==s].sort_values('date_time_ymd').reset_index(drop=True).loc[0,'date_time_ymd']\n",
    "    tmp_data = mv_data[mv_data['symbol']==s].sort_values('date_time_ymd').reset_index(drop=True).iloc[1:4,:]\n",
    "    if (tmp_data['market_cap'].isnull().sum()==3) | (tmp_data['fully_diluted_market_cap'].isnull().sum()==3):\n",
    "        pass\n",
    "    else:\n",
    "        mv_mean = tmp_data['market_cap'].dropna().mean()\n",
    "        fdv_mean = tmp_data['fully_diluted_market_cap'].dropna().mean()\n",
    "    df = pd.DataFrame()\n",
    "    df.loc[0,'tge_date'] = tge_date\n",
    "    df.loc[0,'symbol'] = s\n",
    "    df.loc[0,'mv_mean_3d_tge'] = mv_mean\n",
    "    df.loc[0,'mv_fdv_3d_tge'] = fdv_mean\n",
    "    tge_data_finall_list.append(df)\n",
    "tge_data_finall = pd.concat(tge_data_finall_list, ignore_index=True)\n",
    "tge_data_finall['year'] = tge_data_finall['tge_date'].apply(lambda x:int(x.split('-')[0]))\n",
    "tge_data_finall.dropna(inplace=True)\n",
    "tge_data_finall.sort_values(by='tge_date',inplace=True)\n",
    "tge_data_finall.reset_index(inplace=True, drop=True)\n",
    "tge_data_finall.to_csv('tge_data_finall.csv', index=False)"
   ]
  },
  {
   "cell_type": "code",
   "execution_count": 5,
   "metadata": {},
   "outputs": [
    {
     "data": {
      "text/html": [
       "<div>\n",
       "<style scoped>\n",
       "    .dataframe tbody tr th:only-of-type {\n",
       "        vertical-align: middle;\n",
       "    }\n",
       "\n",
       "    .dataframe tbody tr th {\n",
       "        vertical-align: top;\n",
       "    }\n",
       "\n",
       "    .dataframe thead th {\n",
       "        text-align: right;\n",
       "    }\n",
       "</style>\n",
       "<table border=\"1\" class=\"dataframe\">\n",
       "  <thead>\n",
       "    <tr style=\"text-align: right;\">\n",
       "      <th></th>\n",
       "      <th>mv_mean_post_3d_tge</th>\n",
       "      <th>fdv_mean_post_3d_tge</th>\n",
       "    </tr>\n",
       "  </thead>\n",
       "  <tbody>\n",
       "    <tr>\n",
       "      <th>2020</th>\n",
       "      <td>1.431126e+08</td>\n",
       "      <td>6.161391e+08</td>\n",
       "    </tr>\n",
       "    <tr>\n",
       "      <th>2021</th>\n",
       "      <td>1.679616e+08</td>\n",
       "      <td>7.529309e+08</td>\n",
       "    </tr>\n",
       "    <tr>\n",
       "      <th>2022</th>\n",
       "      <td>2.215832e+08</td>\n",
       "      <td>6.222287e+08</td>\n",
       "    </tr>\n",
       "    <tr>\n",
       "      <th>2023</th>\n",
       "      <td>1.755526e+08</td>\n",
       "      <td>6.161391e+08</td>\n",
       "    </tr>\n",
       "    <tr>\n",
       "      <th>2024</th>\n",
       "      <td>2.596153e+08</td>\n",
       "      <td>9.434547e+08</td>\n",
       "    </tr>\n",
       "  </tbody>\n",
       "</table>\n",
       "</div>"
      ],
      "text/plain": [
       "      mv_mean_post_3d_tge  fdv_mean_post_3d_tge\n",
       "2020         1.431126e+08          6.161391e+08\n",
       "2021         1.679616e+08          7.529309e+08\n",
       "2022         2.215832e+08          6.222287e+08\n",
       "2023         1.755526e+08          6.161391e+08\n",
       "2024         2.596153e+08          9.434547e+08"
      ]
     },
     "execution_count": 5,
     "metadata": {},
     "output_type": "execute_result"
    }
   ],
   "source": [
    "tge_data_finall = pd.read_csv('tge_data_finall.csv')\n",
    "finall_analyze = pd.DataFrame(index=range(2020, 2025))\n",
    "for y in range(2020, 2025):\n",
    "    mv_mean_3d_tge = tge_data_finall[tge_data_finall['year']==y]['mv_mean_3d_tge'].median()\n",
    "    mv_fdv_3d_tge = tge_data_finall[tge_data_finall['year']==y]['mv_fdv_3d_tge'].median()\n",
    "    finall_analyze.loc[y, 'mv_mean_post_3d_tge'] = mv_mean_3d_tge\n",
    "    finall_analyze.loc[y, 'fdv_mean_post_3d_tge'] = mv_fdv_3d_tge\n",
    "finall_analyze"
   ]
  }
 ],
 "metadata": {
  "kernelspec": {
   "display_name": "stock",
   "language": "python",
   "name": "python3"
  },
  "language_info": {
   "codemirror_mode": {
    "name": "ipython",
    "version": 3
   },
   "file_extension": ".py",
   "mimetype": "text/x-python",
   "name": "python",
   "nbconvert_exporter": "python",
   "pygments_lexer": "ipython3",
   "version": "3.10.14"
  }
 },
 "nbformat": 4,
 "nbformat_minor": 2
}
